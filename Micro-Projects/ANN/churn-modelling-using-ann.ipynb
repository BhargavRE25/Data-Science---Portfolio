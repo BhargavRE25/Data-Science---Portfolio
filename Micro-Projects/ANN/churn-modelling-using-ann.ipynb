{
 "cells": [
  {
   "cell_type": "markdown",
   "metadata": {},
   "source": [
    "### Importing the Required Packages to Solve the Problem"
   ]
  },
  {
   "cell_type": "code",
   "execution_count": 2,
   "metadata": {},
   "outputs": [],
   "source": [
    "import numpy as np\n",
    "import pandas as pd\n",
    "import matplotlib.pyplot as plt\n",
    "import seaborn as sns\n",
    "%matplotlib inline"
   ]
  },
  {
   "cell_type": "markdown",
   "metadata": {},
   "source": [
    "### Import the Required Dataset"
   ]
  },
  {
   "cell_type": "code",
   "execution_count": 3,
   "metadata": {},
   "outputs": [],
   "source": [
    "data = pd.read_csv(\"C:\\Users\\hr\\Downloads\\ML_Practice\\Practice-ML-Algorithms\\ANN\\Churn_Modelling.csv\")"
   ]
  },
  {
   "cell_type": "markdown",
   "metadata": {},
   "source": [
    "### Data Exploration"
   ]
  },
  {
   "cell_type": "code",
   "execution_count": 4,
   "metadata": {},
   "outputs": [
    {
     "data": {
      "text/html": [
       "<div>\n",
       "<style scoped>\n",
       "    .dataframe tbody tr th:only-of-type {\n",
       "        vertical-align: middle;\n",
       "    }\n",
       "\n",
       "    .dataframe tbody tr th {\n",
       "        vertical-align: top;\n",
       "    }\n",
       "\n",
       "    .dataframe thead th {\n",
       "        text-align: right;\n",
       "    }\n",
       "</style>\n",
       "<table border=\"1\" class=\"dataframe\">\n",
       "  <thead>\n",
       "    <tr style=\"text-align: right;\">\n",
       "      <th></th>\n",
       "      <th>RowNumber</th>\n",
       "      <th>CustomerId</th>\n",
       "      <th>Surname</th>\n",
       "      <th>CreditScore</th>\n",
       "      <th>Geography</th>\n",
       "      <th>Gender</th>\n",
       "      <th>Age</th>\n",
       "      <th>Tenure</th>\n",
       "      <th>Balance</th>\n",
       "      <th>NumOfProducts</th>\n",
       "      <th>HasCrCard</th>\n",
       "      <th>IsActiveMember</th>\n",
       "      <th>EstimatedSalary</th>\n",
       "      <th>Exited</th>\n",
       "    </tr>\n",
       "  </thead>\n",
       "  <tbody>\n",
       "    <tr>\n",
       "      <th>0</th>\n",
       "      <td>1</td>\n",
       "      <td>15634602</td>\n",
       "      <td>Hargrave</td>\n",
       "      <td>619</td>\n",
       "      <td>France</td>\n",
       "      <td>Female</td>\n",
       "      <td>42</td>\n",
       "      <td>2</td>\n",
       "      <td>0.00</td>\n",
       "      <td>1</td>\n",
       "      <td>1</td>\n",
       "      <td>1</td>\n",
       "      <td>101348.88</td>\n",
       "      <td>1</td>\n",
       "    </tr>\n",
       "    <tr>\n",
       "      <th>1</th>\n",
       "      <td>2</td>\n",
       "      <td>15647311</td>\n",
       "      <td>Hill</td>\n",
       "      <td>608</td>\n",
       "      <td>Spain</td>\n",
       "      <td>Female</td>\n",
       "      <td>41</td>\n",
       "      <td>1</td>\n",
       "      <td>83807.86</td>\n",
       "      <td>1</td>\n",
       "      <td>0</td>\n",
       "      <td>1</td>\n",
       "      <td>112542.58</td>\n",
       "      <td>0</td>\n",
       "    </tr>\n",
       "    <tr>\n",
       "      <th>2</th>\n",
       "      <td>3</td>\n",
       "      <td>15619304</td>\n",
       "      <td>Onio</td>\n",
       "      <td>502</td>\n",
       "      <td>France</td>\n",
       "      <td>Female</td>\n",
       "      <td>42</td>\n",
       "      <td>8</td>\n",
       "      <td>159660.80</td>\n",
       "      <td>3</td>\n",
       "      <td>1</td>\n",
       "      <td>0</td>\n",
       "      <td>113931.57</td>\n",
       "      <td>1</td>\n",
       "    </tr>\n",
       "    <tr>\n",
       "      <th>3</th>\n",
       "      <td>4</td>\n",
       "      <td>15701354</td>\n",
       "      <td>Boni</td>\n",
       "      <td>699</td>\n",
       "      <td>France</td>\n",
       "      <td>Female</td>\n",
       "      <td>39</td>\n",
       "      <td>1</td>\n",
       "      <td>0.00</td>\n",
       "      <td>2</td>\n",
       "      <td>0</td>\n",
       "      <td>0</td>\n",
       "      <td>93826.63</td>\n",
       "      <td>0</td>\n",
       "    </tr>\n",
       "    <tr>\n",
       "      <th>4</th>\n",
       "      <td>5</td>\n",
       "      <td>15737888</td>\n",
       "      <td>Mitchell</td>\n",
       "      <td>850</td>\n",
       "      <td>Spain</td>\n",
       "      <td>Female</td>\n",
       "      <td>43</td>\n",
       "      <td>2</td>\n",
       "      <td>125510.82</td>\n",
       "      <td>1</td>\n",
       "      <td>1</td>\n",
       "      <td>1</td>\n",
       "      <td>79084.10</td>\n",
       "      <td>0</td>\n",
       "    </tr>\n",
       "  </tbody>\n",
       "</table>\n",
       "</div>"
      ],
      "text/plain": [
       "   RowNumber  CustomerId   Surname  CreditScore Geography  Gender  Age  \\\n",
       "0          1    15634602  Hargrave          619    France  Female   42   \n",
       "1          2    15647311      Hill          608     Spain  Female   41   \n",
       "2          3    15619304      Onio          502    France  Female   42   \n",
       "3          4    15701354      Boni          699    France  Female   39   \n",
       "4          5    15737888  Mitchell          850     Spain  Female   43   \n",
       "\n",
       "   Tenure    Balance  NumOfProducts  HasCrCard  IsActiveMember  \\\n",
       "0       2       0.00              1          1               1   \n",
       "1       1   83807.86              1          0               1   \n",
       "2       8  159660.80              3          1               0   \n",
       "3       1       0.00              2          0               0   \n",
       "4       2  125510.82              1          1               1   \n",
       "\n",
       "   EstimatedSalary  Exited  \n",
       "0        101348.88       1  \n",
       "1        112542.58       0  \n",
       "2        113931.57       1  \n",
       "3         93826.63       0  \n",
       "4         79084.10       0  "
      ]
     },
     "execution_count": 4,
     "metadata": {},
     "output_type": "execute_result"
    }
   ],
   "source": [
    "data.head()"
   ]
  },
  {
   "cell_type": "code",
   "execution_count": 5,
   "metadata": {},
   "outputs": [
    {
     "data": {
      "text/plain": [
       "(10000, 14)"
      ]
     },
     "execution_count": 5,
     "metadata": {},
     "output_type": "execute_result"
    }
   ],
   "source": [
    "data.shape"
   ]
  },
  {
   "cell_type": "markdown",
   "metadata": {},
   "source": [
    "This data shows that there are 10,000 recors with 14 Parameters. Out of 14, 13 parameters are predictor variables and 1 parameter is a response variable (\"Exited\")."
   ]
  },
  {
   "cell_type": "code",
   "execution_count": 6,
   "metadata": {},
   "outputs": [
    {
     "name": "stdout",
     "output_type": "stream",
     "text": [
      "<class 'pandas.core.frame.DataFrame'>\n",
      "RangeIndex: 10000 entries, 0 to 9999\n",
      "Data columns (total 14 columns):\n",
      " #   Column           Non-Null Count  Dtype  \n",
      "---  ------           --------------  -----  \n",
      " 0   RowNumber        10000 non-null  int64  \n",
      " 1   CustomerId       10000 non-null  int64  \n",
      " 2   Surname          10000 non-null  object \n",
      " 3   CreditScore      10000 non-null  int64  \n",
      " 4   Geography        10000 non-null  object \n",
      " 5   Gender           10000 non-null  object \n",
      " 6   Age              10000 non-null  int64  \n",
      " 7   Tenure           10000 non-null  int64  \n",
      " 8   Balance          10000 non-null  float64\n",
      " 9   NumOfProducts    10000 non-null  int64  \n",
      " 10  HasCrCard        10000 non-null  int64  \n",
      " 11  IsActiveMember   10000 non-null  int64  \n",
      " 12  EstimatedSalary  10000 non-null  float64\n",
      " 13  Exited           10000 non-null  int64  \n",
      "dtypes: float64(2), int64(9), object(3)\n",
      "memory usage: 1.1+ MB\n"
     ]
    }
   ],
   "source": [
    "data.info()"
   ]
  },
  {
   "cell_type": "markdown",
   "metadata": {},
   "source": [
    "There are 2 float type parameters, 9 Integer variables and 3 String type variables."
   ]
  },
  {
   "cell_type": "markdown",
   "metadata": {},
   "source": [
    "### Identify the Missing Values"
   ]
  },
  {
   "cell_type": "code",
   "execution_count": 7,
   "metadata": {},
   "outputs": [
    {
     "data": {
      "text/plain": [
       "RowNumber          0\n",
       "CustomerId         0\n",
       "Surname            0\n",
       "CreditScore        0\n",
       "Geography          0\n",
       "Gender             0\n",
       "Age                0\n",
       "Tenure             0\n",
       "Balance            0\n",
       "NumOfProducts      0\n",
       "HasCrCard          0\n",
       "IsActiveMember     0\n",
       "EstimatedSalary    0\n",
       "Exited             0\n",
       "dtype: int64"
      ]
     },
     "execution_count": 7,
     "metadata": {},
     "output_type": "execute_result"
    }
   ],
   "source": [
    "data.isnull().sum()"
   ]
  },
  {
   "cell_type": "markdown",
   "metadata": {},
   "source": [
    "Fortunately, there are no missing values in our data"
   ]
  },
  {
   "cell_type": "markdown",
   "metadata": {},
   "source": [
    "### Split the Data into Predictor and Response Variables"
   ]
  },
  {
   "cell_type": "code",
   "execution_count": 8,
   "metadata": {},
   "outputs": [],
   "source": [
    "x = data.drop(\"Exited\", axis=1)"
   ]
  },
  {
   "cell_type": "code",
   "execution_count": 9,
   "metadata": {},
   "outputs": [],
   "source": [
    "y = data['Exited']"
   ]
  },
  {
   "cell_type": "code",
   "execution_count": 10,
   "metadata": {},
   "outputs": [
    {
     "data": {
      "text/plain": [
       "(10000, 13)"
      ]
     },
     "execution_count": 10,
     "metadata": {},
     "output_type": "execute_result"
    }
   ],
   "source": [
    "x.shape"
   ]
  },
  {
   "cell_type": "code",
   "execution_count": 11,
   "metadata": {},
   "outputs": [
    {
     "data": {
      "text/plain": [
       "(10000,)"
      ]
     },
     "execution_count": 11,
     "metadata": {},
     "output_type": "execute_result"
    }
   ],
   "source": [
    "y.shape"
   ]
  },
  {
   "cell_type": "code",
   "execution_count": 12,
   "metadata": {},
   "outputs": [
    {
     "data": {
      "text/plain": [
       "Smith         32\n",
       "Martin        29\n",
       "Scott         29\n",
       "Walker        28\n",
       "Brown         26\n",
       "              ..\n",
       "Olague         1\n",
       "Jack           1\n",
       "Menhennitt     1\n",
       "Cantrell       1\n",
       "Nuttall        1\n",
       "Name: Surname, Length: 2932, dtype: int64"
      ]
     },
     "execution_count": 12,
     "metadata": {},
     "output_type": "execute_result"
    }
   ],
   "source": [
    "data['Surname'].value_counts()"
   ]
  },
  {
   "cell_type": "code",
   "execution_count": 13,
   "metadata": {},
   "outputs": [
    {
     "data": {
      "text/plain": [
       "France     5014\n",
       "Germany    2509\n",
       "Spain      2477\n",
       "Name: Geography, dtype: int64"
      ]
     },
     "execution_count": 13,
     "metadata": {},
     "output_type": "execute_result"
    }
   ],
   "source": [
    "data['Geography'].value_counts()"
   ]
  },
  {
   "cell_type": "code",
   "execution_count": 14,
   "metadata": {},
   "outputs": [
    {
     "data": {
      "text/plain": [
       "Text(0.5, 1.0, 'Number of People for Each country')"
      ]
     },
     "execution_count": 14,
     "metadata": {},
     "output_type": "execute_result"
    },
    {
     "data": {
      "image/png": "[encoded data removed]",
      "text/plain": [
       "<Figure size 360x360 with 1 Axes>"
      ]
     },
     "metadata": {
      "needs_background": "light"
     },
     "output_type": "display_data"
    }
   ],
   "source": [
    "sns.catplot('Geography', data=data, kind='count')\n",
    "plt.xlabel(\"Country\")\n",
    "plt.ylabel(\"Number of People\")\n",
    "plt.title(\"Number of People for Each country\")"
   ]
  },
  {
   "cell_type": "markdown",
   "metadata": {},
   "source": [
    "Based on Geography, we identified that there are people from France,Germany and Spain countries in that Bank."
   ]
  },
  {
   "cell_type": "code",
   "execution_count": 15,
   "metadata": {},
   "outputs": [
    {
     "data": {
      "text/plain": [
       "Male      5457\n",
       "Female    4543\n",
       "Name: Gender, dtype: int64"
      ]
     },
     "execution_count": 15,
     "metadata": {},
     "output_type": "execute_result"
    }
   ],
   "source": [
    "data['Gender'].value_counts()"
   ]
  },
  {
   "cell_type": "code",
   "execution_count": 16,
   "metadata": {},
   "outputs": [
    {
     "data": {
      "text/plain": [
       "Text(0.5, 1.0, 'Gender Classification')"
      ]
     },
     "execution_count": 16,
     "metadata": {},
     "output_type": "execute_result"
    },
    {
     "data": {
      "image/png": "[encoded data removed]",
      "text/plain": [
       "<Figure size 360x360 with 1 Axes>"
      ]
     },
     "metadata": {
      "needs_background": "light"
     },
     "output_type": "display_data"
    }
   ],
   "source": [
    "sns.catplot('Gender', data=data, kind='count')\n",
    "plt.xlabel(\"Gender Category\")\n",
    "plt.ylabel(\"Number of People\")\n",
    "plt.title(\"Gender Classification\")"
   ]
  },
  {
   "cell_type": "markdown",
   "metadata": {},
   "source": [
    "Graph tells us that the Bank has 5457 Male customers and 4543 female customers"
   ]
  },
  {
   "cell_type": "code",
   "execution_count": 17,
   "metadata": {},
   "outputs": [
    {
     "data": {
      "text/plain": [
       "1    7055\n",
       "0    2945\n",
       "Name: HasCrCard, dtype: int64"
      ]
     },
     "execution_count": 17,
     "metadata": {},
     "output_type": "execute_result"
    }
   ],
   "source": [
    "data['HasCrCard'].value_counts()"
   ]
  },
  {
   "cell_type": "code",
   "execution_count": 18,
   "metadata": {},
   "outputs": [
    {
     "data": {
      "text/plain": [
       "Text(0.5, 1.0, 'Identify People with Credit Card')"
      ]
     },
     "execution_count": 18,
     "metadata": {},
     "output_type": "execute_result"
    },
    {
     "data": {
      "image/png": "[encoded data removed]",
      "text/plain": [
       "<Figure size 360x360 with 1 Axes>"
      ]
     },
     "metadata": {
      "needs_background": "light"
     },
     "output_type": "display_data"
    }
   ],
   "source": [
    "sns.catplot('HasCrCard', data=data, kind='count')\n",
    "plt.xlabel(\"Category\")\n",
    "plt.ylabel(\"Number of People\")\n",
    "plt.title(\"Identify People with Credit Card\")"
   ]
  },
  {
   "cell_type": "markdown",
   "metadata": {},
   "source": [
    "Graph tells us that there are more people with credit card and also few people without credit cards. Number of people with credit cards are 7055 and people without credit cards are 2945"
   ]
  },
  {
   "cell_type": "code",
   "execution_count": 19,
   "metadata": {},
   "outputs": [
    {
     "data": {
      "text/plain": [
       "1    5151\n",
       "0    4849\n",
       "Name: IsActiveMember, dtype: int64"
      ]
     },
     "execution_count": 19,
     "metadata": {},
     "output_type": "execute_result"
    }
   ],
   "source": [
    "data['IsActiveMember'].value_counts()"
   ]
  },
  {
   "cell_type": "code",
   "execution_count": 20,
   "metadata": {},
   "outputs": [
    {
     "data": {
      "text/plain": [
       "Text(0.5, 1.0, 'Identify Active Members')"
      ]
     },
     "execution_count": 20,
     "metadata": {},
     "output_type": "execute_result"
    },
    {
     "data": {
      "image/png": "[encoded data removed]",
      "text/plain": [
       "<Figure size 360x360 with 1 Axes>"
      ]
     },
     "metadata": {
      "needs_background": "light"
     },
     "output_type": "display_data"
    }
   ],
   "source": [
    "sns.catplot('IsActiveMember', data=data, kind='count')\n",
    "plt.xlabel(\"Category\")\n",
    "plt.ylabel(\"Number of People\")\n",
    "plt.title(\"Identify Active Members\")"
   ]
  },
  {
   "cell_type": "markdown",
   "metadata": {},
   "source": [
    "Graph shows us that active customers are 5151 and non-active customers are almost as equal as active customers with the value 4849."
   ]
  },
  {
   "cell_type": "markdown",
   "metadata": {},
   "source": [
    "Since there are 3 object type data variables(i.e, Surname, Geography and Gender). Out of which, surname is not required for our data processing, so, we neglect it and we create some dummy variables for Geography and Gender columns for performing the computations on string type data."
   ]
  },
  {
   "cell_type": "code",
   "execution_count": 21,
   "metadata": {},
   "outputs": [],
   "source": [
    "geography = pd.get_dummies(x['Geography'], drop_first=True)\n",
    "gender = pd.get_dummies(x['Gender'], drop_first=True)"
   ]
  },
  {
   "cell_type": "code",
   "execution_count": 22,
   "metadata": {},
   "outputs": [
    {
     "data": {
      "text/plain": [
       "(10000, 2)"
      ]
     },
     "execution_count": 22,
     "metadata": {},
     "output_type": "execute_result"
    }
   ],
   "source": [
    "geography.shape"
   ]
  },
  {
   "cell_type": "code",
   "execution_count": 23,
   "metadata": {},
   "outputs": [
    {
     "data": {
      "text/plain": [
       "(10000, 1)"
      ]
     },
     "execution_count": 23,
     "metadata": {},
     "output_type": "execute_result"
    }
   ],
   "source": [
    "gender.shape"
   ]
  },
  {
   "cell_type": "code",
   "execution_count": 24,
   "metadata": {},
   "outputs": [
    {
     "data": {
      "text/plain": [
       "(10000, 13)"
      ]
     },
     "execution_count": 24,
     "metadata": {},
     "output_type": "execute_result"
    }
   ],
   "source": [
    "x.shape"
   ]
  },
  {
   "cell_type": "code",
   "execution_count": 25,
   "metadata": {},
   "outputs": [],
   "source": [
    "x = pd.concat([x, geography, gender], axis=1)"
   ]
  },
  {
   "cell_type": "code",
   "execution_count": 26,
   "metadata": {},
   "outputs": [
    {
     "data": {
      "text/plain": [
       "(10000, 16)"
      ]
     },
     "execution_count": 26,
     "metadata": {},
     "output_type": "execute_result"
    }
   ],
   "source": [
    "x.shape"
   ]
  },
  {
   "cell_type": "code",
   "execution_count": 27,
   "metadata": {},
   "outputs": [
    {
     "name": "stdout",
     "output_type": "stream",
     "text": [
      "<class 'pandas.core.frame.DataFrame'>\n",
      "RangeIndex: 10000 entries, 0 to 9999\n",
      "Data columns (total 16 columns):\n",
      " #   Column           Non-Null Count  Dtype  \n",
      "---  ------           --------------  -----  \n",
      " 0   RowNumber        10000 non-null  int64  \n",
      " 1   CustomerId       10000 non-null  int64  \n",
      " 2   Surname          10000 non-null  object \n",
      " 3   CreditScore      10000 non-null  int64  \n",
      " 4   Geography        10000 non-null  object \n",
      " 5   Gender           10000 non-null  object \n",
      " 6   Age              10000 non-null  int64  \n",
      " 7   Tenure           10000 non-null  int64  \n",
      " 8   Balance          10000 non-null  float64\n",
      " 9   NumOfProducts    10000 non-null  int64  \n",
      " 10  HasCrCard        10000 non-null  int64  \n",
      " 11  IsActiveMember   10000 non-null  int64  \n",
      " 12  EstimatedSalary  10000 non-null  float64\n",
      " 13  Germany          10000 non-null  uint8  \n",
      " 14  Spain            10000 non-null  uint8  \n",
      " 15  Male             10000 non-null  uint8  \n",
      "dtypes: float64(2), int64(8), object(3), uint8(3)\n",
      "memory usage: 1.0+ MB\n"
     ]
    }
   ],
   "source": [
    "x.info()"
   ]
  },
  {
   "cell_type": "code",
   "execution_count": 28,
   "metadata": {
    "_kg_hide-output": true
   },
   "outputs": [],
   "source": [
    "x=x.drop([\"Geography\", \"Gender\", \"Surname\",\"RowNumber\",\"CustomerId\"], axis=1)"
   ]
  },
  {
   "cell_type": "code",
   "execution_count": 29,
   "metadata": {},
   "outputs": [
    {
     "data": {
      "text/plain": [
       "(10000, 11)"
      ]
     },
     "execution_count": 29,
     "metadata": {},
     "output_type": "execute_result"
    }
   ],
   "source": [
    "x.shape"
   ]
  },
  {
   "cell_type": "markdown",
   "metadata": {},
   "source": [
    "As you have added the encoded values for both geography and gender parameters to your predictor variables dataset, we need to remove the object columns."
   ]
  },
  {
   "cell_type": "markdown",
   "metadata": {},
   "source": [
    "### Split the Dataset into train and test sets\n",
    "\n",
    "Test size is taken as 25%."
   ]
  },
  {
   "cell_type": "code",
   "execution_count": 30,
   "metadata": {},
   "outputs": [],
   "source": [
    "from sklearn.model_selection import train_test_split"
   ]
  },
  {
   "cell_type": "code",
   "execution_count": 31,
   "metadata": {},
   "outputs": [],
   "source": [
    "x_train, x_test, y_train, y_test = train_test_split(x, y, test_size=0.25, random_state=50)"
   ]
  },
  {
   "cell_type": "code",
   "execution_count": 32,
   "metadata": {},
   "outputs": [
    {
     "data": {
      "text/plain": [
       "(7500, 11)"
      ]
     },
     "execution_count": 32,
     "metadata": {},
     "output_type": "execute_result"
    }
   ],
   "source": [
    "x_train.shape"
   ]
  },
  {
   "cell_type": "code",
   "execution_count": 33,
   "metadata": {},
   "outputs": [
    {
     "data": {
      "text/plain": [
       "(2500, 11)"
      ]
     },
     "execution_count": 33,
     "metadata": {},
     "output_type": "execute_result"
    }
   ],
   "source": [
    "x_test.shape"
   ]
  },
  {
   "cell_type": "code",
   "execution_count": 34,
   "metadata": {},
   "outputs": [
    {
     "data": {
      "text/plain": [
       "(7500,)"
      ]
     },
     "execution_count": 34,
     "metadata": {},
     "output_type": "execute_result"
    }
   ],
   "source": [
    "y_train.shape"
   ]
  },
  {
   "cell_type": "code",
   "execution_count": 35,
   "metadata": {},
   "outputs": [
    {
     "data": {
      "text/plain": [
       "(2500,)"
      ]
     },
     "execution_count": 35,
     "metadata": {},
     "output_type": "execute_result"
    }
   ],
   "source": [
    "y_test.shape"
   ]
  },
  {
   "cell_type": "code",
   "execution_count": 36,
   "metadata": {},
   "outputs": [
    {
     "data": {
      "text/html": [
       "<div>\n",
       "<style scoped>\n",
       "    .dataframe tbody tr th:only-of-type {\n",
       "        vertical-align: middle;\n",
       "    }\n",
       "\n",
       "    .dataframe tbody tr th {\n",
       "        vertical-align: top;\n",
       "    }\n",
       "\n",
       "    .dataframe thead th {\n",
       "        text-align: right;\n",
       "    }\n",
       "</style>\n",
       "<table border=\"1\" class=\"dataframe\">\n",
       "  <thead>\n",
       "    <tr style=\"text-align: right;\">\n",
       "      <th></th>\n",
       "      <th>CreditScore</th>\n",
       "      <th>Age</th>\n",
       "      <th>Tenure</th>\n",
       "      <th>Balance</th>\n",
       "      <th>NumOfProducts</th>\n",
       "      <th>HasCrCard</th>\n",
       "      <th>IsActiveMember</th>\n",
       "      <th>EstimatedSalary</th>\n",
       "      <th>Germany</th>\n",
       "      <th>Spain</th>\n",
       "      <th>Male</th>\n",
       "    </tr>\n",
       "  </thead>\n",
       "  <tbody>\n",
       "    <tr>\n",
       "      <th>7777</th>\n",
       "      <td>711</td>\n",
       "      <td>21</td>\n",
       "      <td>0</td>\n",
       "      <td>82844.33</td>\n",
       "      <td>2</td>\n",
       "      <td>0</td>\n",
       "      <td>1</td>\n",
       "      <td>1408.68</td>\n",
       "      <td>0</td>\n",
       "      <td>0</td>\n",
       "      <td>0</td>\n",
       "    </tr>\n",
       "    <tr>\n",
       "      <th>4998</th>\n",
       "      <td>559</td>\n",
       "      <td>40</td>\n",
       "      <td>7</td>\n",
       "      <td>144470.77</td>\n",
       "      <td>1</td>\n",
       "      <td>1</td>\n",
       "      <td>1</td>\n",
       "      <td>18917.95</td>\n",
       "      <td>0</td>\n",
       "      <td>1</td>\n",
       "      <td>0</td>\n",
       "    </tr>\n",
       "    <tr>\n",
       "      <th>4165</th>\n",
       "      <td>775</td>\n",
       "      <td>60</td>\n",
       "      <td>7</td>\n",
       "      <td>0.00</td>\n",
       "      <td>2</td>\n",
       "      <td>1</td>\n",
       "      <td>1</td>\n",
       "      <td>111558.70</td>\n",
       "      <td>0</td>\n",
       "      <td>0</td>\n",
       "      <td>1</td>\n",
       "    </tr>\n",
       "    <tr>\n",
       "      <th>9645</th>\n",
       "      <td>695</td>\n",
       "      <td>31</td>\n",
       "      <td>5</td>\n",
       "      <td>106089.20</td>\n",
       "      <td>1</td>\n",
       "      <td>0</td>\n",
       "      <td>0</td>\n",
       "      <td>99537.68</td>\n",
       "      <td>0</td>\n",
       "      <td>0</td>\n",
       "      <td>0</td>\n",
       "    </tr>\n",
       "    <tr>\n",
       "      <th>1707</th>\n",
       "      <td>707</td>\n",
       "      <td>40</td>\n",
       "      <td>5</td>\n",
       "      <td>0.00</td>\n",
       "      <td>2</td>\n",
       "      <td>1</td>\n",
       "      <td>0</td>\n",
       "      <td>41052.82</td>\n",
       "      <td>0</td>\n",
       "      <td>0</td>\n",
       "      <td>0</td>\n",
       "    </tr>\n",
       "  </tbody>\n",
       "</table>\n",
       "</div>"
      ],
      "text/plain": [
       "      CreditScore  Age  Tenure    Balance  NumOfProducts  HasCrCard  \\\n",
       "7777          711   21       0   82844.33              2          0   \n",
       "4998          559   40       7  144470.77              1          1   \n",
       "4165          775   60       7       0.00              2          1   \n",
       "9645          695   31       5  106089.20              1          0   \n",
       "1707          707   40       5       0.00              2          1   \n",
       "\n",
       "      IsActiveMember  EstimatedSalary  Germany  Spain  Male  \n",
       "7777               1          1408.68        0      0     0  \n",
       "4998               1         18917.95        0      1     0  \n",
       "4165               1        111558.70        0      0     1  \n",
       "9645               0         99537.68        0      0     0  \n",
       "1707               0         41052.82        0      0     0  "
      ]
     },
     "execution_count": 36,
     "metadata": {},
     "output_type": "execute_result"
    }
   ],
   "source": [
    "x_train.head()"
   ]
  },
  {
   "cell_type": "markdown",
   "metadata": {},
   "source": [
    "### Perform Feature Scaling"
   ]
  },
  {
   "cell_type": "code",
   "execution_count": 37,
   "metadata": {},
   "outputs": [],
   "source": [
    "from sklearn.preprocessing import StandardScaler"
   ]
  },
  {
   "cell_type": "code",
   "execution_count": 38,
   "metadata": {},
   "outputs": [],
   "source": [
    "scale = StandardScaler()"
   ]
  },
  {
   "cell_type": "code",
   "execution_count": 39,
   "metadata": {},
   "outputs": [],
   "source": [
    "x_train = scale.fit_transform(x_train)"
   ]
  },
  {
   "cell_type": "code",
   "execution_count": 40,
   "metadata": {},
   "outputs": [],
   "source": [
    "x_test = scale.fit_transform(x_test)"
   ]
  },
  {
   "cell_type": "code",
   "execution_count": 41,
   "metadata": {},
   "outputs": [
    {
     "data": {
      "text/plain": [
       "(7500, 11)"
      ]
     },
     "execution_count": 41,
     "metadata": {},
     "output_type": "execute_result"
    }
   ],
   "source": [
    "x_train.shape"
   ]
  },
  {
   "cell_type": "markdown",
   "metadata": {},
   "source": [
    "### Model implementation"
   ]
  },
  {
   "cell_type": "markdown",
   "metadata": {},
   "source": [
    "Importing all the Deep Learning required Libraries"
   ]
  },
  {
   "cell_type": "code",
   "execution_count": 42,
   "metadata": {},
   "outputs": [
    {
     "name": "stderr",
     "output_type": "stream",
     "text": [
      "Using TensorFlow backend.\n"
     ]
    }
   ],
   "source": [
    "import keras\n",
    "from keras.models import Sequential\n",
    "from keras.layers import Dense\n",
    "from keras.layers import LeakyReLU, PReLU, ELU\n",
    "from keras.layers import Dropout"
   ]
  },
  {
   "cell_type": "markdown",
   "metadata": {},
   "source": [
    "### Initializing the ANN Model"
   ]
  },
  {
   "cell_type": "code",
   "execution_count": 43,
   "metadata": {},
   "outputs": [],
   "source": [
    "model = Sequential()"
   ]
  },
  {
   "cell_type": "markdown",
   "metadata": {},
   "source": [
    "Adding the input layer and the hidden layers"
   ]
  },
  {
   "cell_type": "code",
   "execution_count": 44,
   "metadata": {},
   "outputs": [],
   "source": [
    "model.add(Dense(units = 10, kernel_initializer = \"he_normal\", activation = \"relu\", input_dim = 11))\n",
    "model.add(Dropout(0.3))"
   ]
  },
  {
   "cell_type": "markdown",
   "metadata": {},
   "source": [
    "Adding the second hidden Layer"
   ]
  },
  {
   "cell_type": "code",
   "execution_count": 45,
   "metadata": {},
   "outputs": [],
   "source": [
    "model.add(Dense(units=20, kernel_initializer=\"he_normal\", activation = \"relu\"))\n",
    "model.add(Dropout(0.4))"
   ]
  },
  {
   "cell_type": "markdown",
   "metadata": {},
   "source": [
    "Adding the third hidden layer"
   ]
  },
  {
   "cell_type": "code",
   "execution_count": 46,
   "metadata": {},
   "outputs": [],
   "source": [
    "model.add(Dense(units=15, kernel_initializer=\"he_normal\", activation = \"relu\"))\n",
    "model.add(Dropout(0.2))"
   ]
  },
  {
   "cell_type": "markdown",
   "metadata": {},
   "source": [
    "Adding the Output Layer"
   ]
  },
  {
   "cell_type": "code",
   "execution_count": 47,
   "metadata": {},
   "outputs": [],
   "source": [
    "model.add(Dense(units=1, kernel_initializer = \"glorot_uniform\", activation = \"sigmoid\"))"
   ]
  },
  {
   "cell_type": "code",
   "execution_count": 48,
   "metadata": {},
   "outputs": [
    {
     "name": "stdout",
     "output_type": "stream",
     "text": [
      "Model: \"sequential\"\n",
      "_________________________________________________________________\n",
      "Layer (type)                 Output Shape              Param #   \n",
      "=================================================================\n",
      "dense (Dense)                (None, 10)                120       \n",
      "_________________________________________________________________\n",
      "dropout (Dropout)            (None, 10)                0         \n",
      "_________________________________________________________________\n",
      "dense_1 (Dense)              (None, 20)                220       \n",
      "_________________________________________________________________\n",
      "dropout_1 (Dropout)          (None, 20)                0         \n",
      "_________________________________________________________________\n",
      "dense_2 (Dense)              (None, 15)                315       \n",
      "_________________________________________________________________\n",
      "dropout_2 (Dropout)          (None, 15)                0         \n",
      "_________________________________________________________________\n",
      "dense_3 (Dense)              (None, 1)                 16        \n",
      "=================================================================\n",
      "Total params: 671\n",
      "Trainable params: 671\n",
      "Non-trainable params: 0\n",
      "_________________________________________________________________\n"
     ]
    }
   ],
   "source": [
    "model.summary()"
   ]
  },
  {
   "cell_type": "markdown",
   "metadata": {},
   "source": [
    "Compiling the Artificial Neural Network Model"
   ]
  },
  {
   "cell_type": "code",
   "execution_count": 49,
   "metadata": {},
   "outputs": [],
   "source": [
    "model.compile(optimizer = 'Adam', loss = 'binary_crossentropy', metrics =['accuracy'])"
   ]
  },
  {
   "cell_type": "markdown",
   "metadata": {},
   "source": [
    "Fitting the Neural Network Model to our Training Data"
   ]
  },
  {
   "cell_type": "code",
   "execution_count": 50,
   "metadata": {},
   "outputs": [
    {
     "name": "stdout",
     "output_type": "stream",
     "text": [
      "Epoch 1/100\n",
      "563/563 [==============================] - 1s 2ms/step - loss: 0.5698 - accuracy: 0.7716 - val_loss: 0.5075 - val_accuracy: 0.7872\n",
      "Epoch 2/100\n",
      "563/563 [==============================] - 1s 2ms/step - loss: 0.5116 - accuracy: 0.7957 - val_loss: 0.4819 - val_accuracy: 0.7872\n",
      "Epoch 3/100\n",
      "563/563 [==============================] - 1s 2ms/step - loss: 0.4859 - accuracy: 0.7970 - val_loss: 0.4646 - val_accuracy: 0.7872\n",
      "Epoch 4/100\n",
      "563/563 [==============================] - 1s 2ms/step - loss: 0.4757 - accuracy: 0.7986 - val_loss: 0.4577 - val_accuracy: 0.7877\n",
      "Epoch 5/100\n",
      "563/563 [==============================] - 1s 2ms/step - loss: 0.4663 - accuracy: 0.7995 - val_loss: 0.4453 - val_accuracy: 0.7883\n",
      "Epoch 6/100\n",
      "563/563 [==============================] - 1s 2ms/step - loss: 0.4615 - accuracy: 0.7989 - val_loss: 0.4453 - val_accuracy: 0.7888\n",
      "Epoch 7/100\n",
      "563/563 [==============================] - 1s 2ms/step - loss: 0.4502 - accuracy: 0.8021 - val_loss: 0.4339 - val_accuracy: 0.7920\n",
      "Epoch 8/100\n",
      "563/563 [==============================] - 1s 2ms/step - loss: 0.4497 - accuracy: 0.7993 - val_loss: 0.4347 - val_accuracy: 0.7883\n",
      "Epoch 9/100\n",
      "563/563 [==============================] - 1s 2ms/step - loss: 0.4478 - accuracy: 0.8009 - val_loss: 0.4322 - val_accuracy: 0.7867\n",
      "Epoch 10/100\n",
      "563/563 [==============================] - 1s 2ms/step - loss: 0.4382 - accuracy: 0.7991 - val_loss: 0.4249 - val_accuracy: 0.7883\n",
      "Epoch 11/100\n",
      "563/563 [==============================] - 1s 2ms/step - loss: 0.4269 - accuracy: 0.8085 - val_loss: 0.4202 - val_accuracy: 0.7952\n",
      "Epoch 12/100\n",
      "563/563 [==============================] - 1s 2ms/step - loss: 0.4231 - accuracy: 0.8101 - val_loss: 0.4123 - val_accuracy: 0.8037\n",
      "Epoch 13/100\n",
      "563/563 [==============================] - 1s 2ms/step - loss: 0.4125 - accuracy: 0.8137 - val_loss: 0.4031 - val_accuracy: 0.8139\n",
      "Epoch 14/100\n",
      "563/563 [==============================] - 1s 2ms/step - loss: 0.4136 - accuracy: 0.8174 - val_loss: 0.4008 - val_accuracy: 0.8107\n",
      "Epoch 15/100\n",
      "563/563 [==============================] - 1s 2ms/step - loss: 0.4059 - accuracy: 0.8183 - val_loss: 0.3945 - val_accuracy: 0.8192\n",
      "Epoch 16/100\n",
      "563/563 [==============================] - 1s 2ms/step - loss: 0.4028 - accuracy: 0.8181 - val_loss: 0.3927 - val_accuracy: 0.8229\n",
      "Epoch 17/100\n",
      "563/563 [==============================] - 1s 2ms/step - loss: 0.3963 - accuracy: 0.8272 - val_loss: 0.3950 - val_accuracy: 0.8160\n",
      "Epoch 18/100\n",
      "563/563 [==============================] - 1s 2ms/step - loss: 0.3916 - accuracy: 0.8272 - val_loss: 0.3897 - val_accuracy: 0.8155\n",
      "Epoch 19/100\n",
      "563/563 [==============================] - 1s 2ms/step - loss: 0.3911 - accuracy: 0.8263 - val_loss: 0.3890 - val_accuracy: 0.8149\n",
      "Epoch 20/100\n",
      "563/563 [==============================] - 1s 2ms/step - loss: 0.3951 - accuracy: 0.8272 - val_loss: 0.3887 - val_accuracy: 0.8192\n",
      "Epoch 21/100\n",
      "563/563 [==============================] - 1s 2ms/step - loss: 0.3926 - accuracy: 0.8316 - val_loss: 0.3876 - val_accuracy: 0.8245\n",
      "Epoch 22/100\n",
      "563/563 [==============================] - 1s 2ms/step - loss: 0.3905 - accuracy: 0.8347 - val_loss: 0.3846 - val_accuracy: 0.8245\n",
      "Epoch 23/100\n",
      "563/563 [==============================] - 1s 2ms/step - loss: 0.3882 - accuracy: 0.8373 - val_loss: 0.3853 - val_accuracy: 0.8288\n",
      "Epoch 24/100\n",
      "563/563 [==============================] - 1s 2ms/step - loss: 0.3797 - accuracy: 0.8361 - val_loss: 0.3793 - val_accuracy: 0.8352\n",
      "Epoch 25/100\n",
      "563/563 [==============================] - 1s 2ms/step - loss: 0.3824 - accuracy: 0.8341 - val_loss: 0.3796 - val_accuracy: 0.8341\n",
      "Epoch 26/100\n",
      "563/563 [==============================] - 1s 2ms/step - loss: 0.3822 - accuracy: 0.8324 - val_loss: 0.3795 - val_accuracy: 0.8368\n",
      "Epoch 27/100\n",
      "563/563 [==============================] - 1s 2ms/step - loss: 0.3742 - accuracy: 0.8364 - val_loss: 0.3795 - val_accuracy: 0.8299\n",
      "Epoch 28/100\n",
      "563/563 [==============================] - 1s 2ms/step - loss: 0.3763 - accuracy: 0.8382 - val_loss: 0.3794 - val_accuracy: 0.8352\n",
      "Epoch 29/100\n",
      "563/563 [==============================] - 1s 2ms/step - loss: 0.3829 - accuracy: 0.8340 - val_loss: 0.3825 - val_accuracy: 0.8219\n",
      "Epoch 30/100\n",
      "563/563 [==============================] - 1s 2ms/step - loss: 0.3779 - accuracy: 0.8364 - val_loss: 0.3798 - val_accuracy: 0.8240\n",
      "Epoch 31/100\n",
      "563/563 [==============================] - 1s 2ms/step - loss: 0.3699 - accuracy: 0.8400 - val_loss: 0.3764 - val_accuracy: 0.8368\n",
      "Epoch 32/100\n",
      "563/563 [==============================] - 1s 2ms/step - loss: 0.3771 - accuracy: 0.8396 - val_loss: 0.3779 - val_accuracy: 0.8352\n",
      "Epoch 33/100\n",
      "563/563 [==============================] - 1s 2ms/step - loss: 0.3775 - accuracy: 0.8398 - val_loss: 0.3777 - val_accuracy: 0.8288\n",
      "Epoch 34/100\n",
      "563/563 [==============================] - 1s 2ms/step - loss: 0.3690 - accuracy: 0.8418 - val_loss: 0.3749 - val_accuracy: 0.8427\n",
      "Epoch 35/100\n",
      "563/563 [==============================] - 1s 2ms/step - loss: 0.3780 - accuracy: 0.8391 - val_loss: 0.3766 - val_accuracy: 0.8304\n",
      "Epoch 36/100\n",
      "563/563 [==============================] - 1s 2ms/step - loss: 0.3744 - accuracy: 0.8423 - val_loss: 0.3764 - val_accuracy: 0.8363\n",
      "Epoch 37/100\n",
      "563/563 [==============================] - 1s 2ms/step - loss: 0.3678 - accuracy: 0.8402 - val_loss: 0.3751 - val_accuracy: 0.8384\n",
      "Epoch 38/100\n",
      "563/563 [==============================] - 1s 2ms/step - loss: 0.3756 - accuracy: 0.8388 - val_loss: 0.3766 - val_accuracy: 0.8384\n",
      "Epoch 39/100\n",
      "563/563 [==============================] - 1s 2ms/step - loss: 0.3677 - accuracy: 0.8386 - val_loss: 0.3762 - val_accuracy: 0.8352\n",
      "Epoch 40/100\n",
      "563/563 [==============================] - 1s 2ms/step - loss: 0.3720 - accuracy: 0.8373 - val_loss: 0.3753 - val_accuracy: 0.8373\n",
      "Epoch 41/100\n",
      "563/563 [==============================] - 1s 2ms/step - loss: 0.3684 - accuracy: 0.8455 - val_loss: 0.3736 - val_accuracy: 0.8416\n",
      "Epoch 42/100\n",
      "563/563 [==============================] - 1s 2ms/step - loss: 0.3696 - accuracy: 0.8418 - val_loss: 0.3759 - val_accuracy: 0.8315\n",
      "Epoch 43/100\n",
      "563/563 [==============================] - 1s 2ms/step - loss: 0.3695 - accuracy: 0.8432 - val_loss: 0.3749 - val_accuracy: 0.8352\n",
      "Epoch 44/100\n",
      "563/563 [==============================] - 1s 2ms/step - loss: 0.3732 - accuracy: 0.8391 - val_loss: 0.3752 - val_accuracy: 0.8368\n",
      "Epoch 45/100\n",
      "563/563 [==============================] - 1s 2ms/step - loss: 0.3660 - accuracy: 0.8450 - val_loss: 0.3736 - val_accuracy: 0.8400\n",
      "Epoch 46/100\n",
      "563/563 [==============================] - 1s 2ms/step - loss: 0.3699 - accuracy: 0.8411 - val_loss: 0.3734 - val_accuracy: 0.8384\n",
      "Epoch 47/100\n",
      "563/563 [==============================] - 1s 2ms/step - loss: 0.3642 - accuracy: 0.8460 - val_loss: 0.3742 - val_accuracy: 0.8379\n",
      "Epoch 48/100\n",
      "563/563 [==============================] - 1s 2ms/step - loss: 0.3683 - accuracy: 0.8425 - val_loss: 0.3726 - val_accuracy: 0.8485\n",
      "Epoch 49/100\n",
      "563/563 [==============================] - 1s 2ms/step - loss: 0.3655 - accuracy: 0.8484 - val_loss: 0.3698 - val_accuracy: 0.8539\n",
      "Epoch 50/100\n",
      "563/563 [==============================] - 1s 2ms/step - loss: 0.3617 - accuracy: 0.8485 - val_loss: 0.3693 - val_accuracy: 0.8501\n",
      "Epoch 51/100\n",
      "563/563 [==============================] - 1s 2ms/step - loss: 0.3696 - accuracy: 0.8441 - val_loss: 0.3679 - val_accuracy: 0.8512\n",
      "Epoch 52/100\n",
      "563/563 [==============================] - 1s 2ms/step - loss: 0.3608 - accuracy: 0.8448 - val_loss: 0.3650 - val_accuracy: 0.8560\n",
      "Epoch 53/100\n",
      "563/563 [==============================] - 1s 2ms/step - loss: 0.3671 - accuracy: 0.8473 - val_loss: 0.3671 - val_accuracy: 0.8528\n",
      "Epoch 54/100\n",
      "563/563 [==============================] - 1s 2ms/step - loss: 0.3630 - accuracy: 0.8455 - val_loss: 0.3690 - val_accuracy: 0.8512\n",
      "Epoch 55/100\n",
      "563/563 [==============================] - 1s 2ms/step - loss: 0.3631 - accuracy: 0.8505 - val_loss: 0.3653 - val_accuracy: 0.8555\n",
      "Epoch 56/100\n",
      "563/563 [==============================] - 1s 2ms/step - loss: 0.3651 - accuracy: 0.8436 - val_loss: 0.3681 - val_accuracy: 0.8523\n",
      "Epoch 57/100\n",
      "563/563 [==============================] - 1s 2ms/step - loss: 0.3584 - accuracy: 0.8501 - val_loss: 0.3692 - val_accuracy: 0.8517\n",
      "Epoch 58/100\n",
      "563/563 [==============================] - 1s 2ms/step - loss: 0.3630 - accuracy: 0.8450 - val_loss: 0.3697 - val_accuracy: 0.8480\n",
      "Epoch 59/100\n",
      "563/563 [==============================] - 1s 2ms/step - loss: 0.3692 - accuracy: 0.8459 - val_loss: 0.3684 - val_accuracy: 0.8485\n",
      "Epoch 60/100\n",
      "563/563 [==============================] - 1s 2ms/step - loss: 0.3703 - accuracy: 0.8405 - val_loss: 0.3684 - val_accuracy: 0.8453\n",
      "Epoch 61/100\n",
      "563/563 [==============================] - 1s 2ms/step - loss: 0.3633 - accuracy: 0.8500 - val_loss: 0.3679 - val_accuracy: 0.8523\n",
      "Epoch 62/100\n",
      "563/563 [==============================] - 1s 2ms/step - loss: 0.3646 - accuracy: 0.8491 - val_loss: 0.3685 - val_accuracy: 0.8491\n",
      "Epoch 63/100\n",
      "563/563 [==============================] - 1s 2ms/step - loss: 0.3574 - accuracy: 0.8508 - val_loss: 0.3660 - val_accuracy: 0.8539\n",
      "Epoch 64/100\n",
      "563/563 [==============================] - 1s 2ms/step - loss: 0.3706 - accuracy: 0.8425 - val_loss: 0.3710 - val_accuracy: 0.8464\n",
      "Epoch 65/100\n",
      "563/563 [==============================] - 1s 2ms/step - loss: 0.3655 - accuracy: 0.8453 - val_loss: 0.3684 - val_accuracy: 0.8523\n",
      "Epoch 66/100\n",
      "563/563 [==============================] - 1s 2ms/step - loss: 0.3636 - accuracy: 0.8473 - val_loss: 0.3681 - val_accuracy: 0.8491\n",
      "Epoch 67/100\n",
      "563/563 [==============================] - 1s 2ms/step - loss: 0.3638 - accuracy: 0.8453 - val_loss: 0.3683 - val_accuracy: 0.8549\n",
      "Epoch 68/100\n",
      "563/563 [==============================] - 1s 2ms/step - loss: 0.3612 - accuracy: 0.8498 - val_loss: 0.3688 - val_accuracy: 0.8528\n",
      "Epoch 69/100\n",
      "563/563 [==============================] - 1s 2ms/step - loss: 0.3574 - accuracy: 0.8501 - val_loss: 0.3661 - val_accuracy: 0.8560\n",
      "Epoch 70/100\n",
      "563/563 [==============================] - 1s 2ms/step - loss: 0.3618 - accuracy: 0.8480 - val_loss: 0.3670 - val_accuracy: 0.8571\n",
      "Epoch 71/100\n",
      "563/563 [==============================] - 1s 2ms/step - loss: 0.3545 - accuracy: 0.8503 - val_loss: 0.3670 - val_accuracy: 0.8539\n",
      "Epoch 72/100\n",
      "563/563 [==============================] - 1s 2ms/step - loss: 0.3611 - accuracy: 0.8491 - val_loss: 0.3688 - val_accuracy: 0.8496\n",
      "Epoch 73/100\n",
      "563/563 [==============================] - 1s 2ms/step - loss: 0.3564 - accuracy: 0.8466 - val_loss: 0.3690 - val_accuracy: 0.8512\n",
      "Epoch 74/100\n",
      "563/563 [==============================] - 1s 2ms/step - loss: 0.3631 - accuracy: 0.8528 - val_loss: 0.3725 - val_accuracy: 0.8512\n",
      "Epoch 75/100\n",
      "563/563 [==============================] - 1s 2ms/step - loss: 0.3592 - accuracy: 0.8496 - val_loss: 0.3704 - val_accuracy: 0.8507\n",
      "Epoch 76/100\n",
      "563/563 [==============================] - 1s 2ms/step - loss: 0.3584 - accuracy: 0.8494 - val_loss: 0.3653 - val_accuracy: 0.8544\n",
      "Epoch 77/100\n",
      "563/563 [==============================] - 1s 2ms/step - loss: 0.3650 - accuracy: 0.8452 - val_loss: 0.3661 - val_accuracy: 0.8533\n",
      "Epoch 78/100\n",
      "563/563 [==============================] - 1s 2ms/step - loss: 0.3574 - accuracy: 0.8521 - val_loss: 0.3672 - val_accuracy: 0.8475\n",
      "Epoch 79/100\n",
      "563/563 [==============================] - 1s 2ms/step - loss: 0.3635 - accuracy: 0.8491 - val_loss: 0.3701 - val_accuracy: 0.8512\n",
      "Epoch 80/100\n",
      "563/563 [==============================] - 1s 2ms/step - loss: 0.3634 - accuracy: 0.8512 - val_loss: 0.3679 - val_accuracy: 0.8533\n",
      "Epoch 81/100\n",
      "563/563 [==============================] - 1s 2ms/step - loss: 0.3568 - accuracy: 0.8492 - val_loss: 0.3673 - val_accuracy: 0.8549\n",
      "Epoch 82/100\n",
      "563/563 [==============================] - 1s 2ms/step - loss: 0.3602 - accuracy: 0.8524 - val_loss: 0.3644 - val_accuracy: 0.8549\n",
      "Epoch 83/100\n",
      "563/563 [==============================] - 1s 2ms/step - loss: 0.3663 - accuracy: 0.8487 - val_loss: 0.3635 - val_accuracy: 0.8517\n",
      "Epoch 84/100\n",
      "563/563 [==============================] - 1s 2ms/step - loss: 0.3640 - accuracy: 0.8494 - val_loss: 0.3652 - val_accuracy: 0.8571\n",
      "Epoch 85/100\n",
      "563/563 [==============================] - 1s 2ms/step - loss: 0.3599 - accuracy: 0.8471 - val_loss: 0.3649 - val_accuracy: 0.8587\n",
      "Epoch 86/100\n",
      "563/563 [==============================] - 1s 2ms/step - loss: 0.3610 - accuracy: 0.8487 - val_loss: 0.3621 - val_accuracy: 0.8523\n",
      "Epoch 87/100\n",
      "563/563 [==============================] - 1s 2ms/step - loss: 0.3561 - accuracy: 0.8542 - val_loss: 0.3651 - val_accuracy: 0.8587\n",
      "Epoch 88/100\n",
      "563/563 [==============================] - 1s 2ms/step - loss: 0.3632 - accuracy: 0.8494 - val_loss: 0.3649 - val_accuracy: 0.8576\n",
      "Epoch 89/100\n",
      "563/563 [==============================] - 1s 2ms/step - loss: 0.3631 - accuracy: 0.8533 - val_loss: 0.3646 - val_accuracy: 0.8560\n",
      "Epoch 90/100\n",
      "563/563 [==============================] - 1s 2ms/step - loss: 0.3585 - accuracy: 0.8492 - val_loss: 0.3642 - val_accuracy: 0.8549\n",
      "Epoch 91/100\n",
      "563/563 [==============================] - 1s 2ms/step - loss: 0.3556 - accuracy: 0.8487 - val_loss: 0.3662 - val_accuracy: 0.8565\n",
      "Epoch 92/100\n",
      "563/563 [==============================] - 1s 2ms/step - loss: 0.3639 - accuracy: 0.8492 - val_loss: 0.3669 - val_accuracy: 0.8496\n",
      "Epoch 93/100\n",
      "563/563 [==============================] - 1s 2ms/step - loss: 0.3621 - accuracy: 0.8452 - val_loss: 0.3672 - val_accuracy: 0.8544\n",
      "Epoch 94/100\n",
      "563/563 [==============================] - 1s 2ms/step - loss: 0.3632 - accuracy: 0.8507 - val_loss: 0.3637 - val_accuracy: 0.8539\n",
      "Epoch 95/100\n",
      "563/563 [==============================] - 1s 2ms/step - loss: 0.3573 - accuracy: 0.8510 - val_loss: 0.3639 - val_accuracy: 0.8533\n",
      "Epoch 96/100\n",
      "563/563 [==============================] - 1s 2ms/step - loss: 0.3570 - accuracy: 0.8540 - val_loss: 0.3639 - val_accuracy: 0.8523\n",
      "Epoch 97/100\n",
      "563/563 [==============================] - 1s 2ms/step - loss: 0.3590 - accuracy: 0.8489 - val_loss: 0.3644 - val_accuracy: 0.8549\n",
      "Epoch 98/100\n",
      "563/563 [==============================] - 1s 2ms/step - loss: 0.3582 - accuracy: 0.8535 - val_loss: 0.3632 - val_accuracy: 0.8512\n",
      "Epoch 99/100\n",
      "563/563 [==============================] - 1s 2ms/step - loss: 0.3569 - accuracy: 0.8514 - val_loss: 0.3645 - val_accuracy: 0.8517\n",
      "Epoch 100/100\n",
      "563/563 [==============================] - 1s 2ms/step - loss: 0.3575 - accuracy: 0.8542 - val_loss: 0.3621 - val_accuracy: 0.8507\n"
     ]
    }
   ],
   "source": [
    "model_fit = model.fit(x_train, y_train, validation_split = 0.25, batch_size=10, epochs=100)"
   ]
  },
  {
   "cell_type": "markdown",
   "metadata": {},
   "source": [
    "List all the Data in history"
   ]
  },
  {
   "cell_type": "code",
   "execution_count": 51,
   "metadata": {},
   "outputs": [
    {
     "name": "stdout",
     "output_type": "stream",
     "text": [
      "dict_keys(['loss', 'accuracy', 'val_loss', 'val_accuracy'])\n"
     ]
    }
   ],
   "source": [
    "print(model_fit.history.keys())"
   ]
  },
  {
   "cell_type": "code",
   "execution_count": 52,
   "metadata": {},
   "outputs": [
    {
     "data": {
      "image/png": "[encoded data removed]",
      "text/plain": [
       "<Figure size 432x288 with 1 Axes>"
      ]
     },
     "metadata": {
      "needs_background": "light"
     },
     "output_type": "display_data"
    }
   ],
   "source": [
    "plt.plot(model_fit.history['accuracy'])\n",
    "plt.plot(model_fit.history['val_accuracy'])\n",
    "plt.title(\"Model Accuracy\")\n",
    "plt.ylabel(\"Accuracy\")\n",
    "plt.xlabel(\"Epochs\")\n",
    "plt.legend(['train','test'], loc = 'upper left')\n",
    "plt.show()"
   ]
  },
  {
   "cell_type": "code",
   "execution_count": 53,
   "metadata": {},
   "outputs": [
    {
     "data": {
      "image/png": "[encoded data removed]",
      "text/plain": [
       "<Figure size 432x288 with 1 Axes>"
      ]
     },
     "metadata": {
      "needs_background": "light"
     },
     "output_type": "display_data"
    }
   ],
   "source": [
    "plt.plot(model_fit.history['loss'])\n",
    "plt.plot(model_fit.history['val_loss'])\n",
    "plt.title(\"Model Accuracy\")\n",
    "plt.ylabel(\"Loss\")\n",
    "plt.xlabel(\"Epochs\")\n",
    "plt.legend(['train','test'], loc = 'upper left')\n",
    "plt.show()"
   ]
  },
  {
   "cell_type": "markdown",
   "metadata": {},
   "source": [
    "It's time to predict the test results now"
   ]
  },
  {
   "cell_type": "code",
   "execution_count": 54,
   "metadata": {},
   "outputs": [],
   "source": [
    "y_pred = model.predict(x_test)"
   ]
  },
  {
   "cell_type": "code",
   "execution_count": 55,
   "metadata": {},
   "outputs": [
    {
     "data": {
      "text/plain": [
       "array([[0.5059972 ],\n",
       "       [0.05070314],\n",
       "       [0.26750195],\n",
       "       ...,\n",
       "       [0.08471518],\n",
       "       [0.26750195],\n",
       "       [0.04094827]], dtype=float32)"
      ]
     },
     "execution_count": 55,
     "metadata": {},
     "output_type": "execute_result"
    }
   ],
   "source": [
    "y_pred"
   ]
  },
  {
   "cell_type": "code",
   "execution_count": 56,
   "metadata": {},
   "outputs": [],
   "source": [
    "y_pred = (y_pred>0.5)"
   ]
  },
  {
   "cell_type": "markdown",
   "metadata": {},
   "source": [
    "After predicting the output, our next task is to identify the performance of the model using different performance metrics"
   ]
  },
  {
   "cell_type": "code",
   "execution_count": 57,
   "metadata": {},
   "outputs": [],
   "source": [
    "from sklearn.metrics import confusion_matrix, accuracy_score"
   ]
  },
  {
   "cell_type": "code",
   "execution_count": 58,
   "metadata": {},
   "outputs": [
    {
     "data": {
      "text/plain": [
       "array([[1901,   98],\n",
       "       [ 282,  219]])"
      ]
     },
     "execution_count": 58,
     "metadata": {},
     "output_type": "execute_result"
    }
   ],
   "source": [
    "cm = confusion_matrix(y_test, y_pred)\n",
    "cm"
   ]
  },
  {
   "cell_type": "code",
   "execution_count": 59,
   "metadata": {},
   "outputs": [
    {
     "data": {
      "text/plain": [
       "0.848"
      ]
     },
     "execution_count": 59,
     "metadata": {},
     "output_type": "execute_result"
    }
   ],
   "source": [
    "acc_sc = accuracy_score(y_test, y_pred)\n",
    "acc_sc"
   ]
  }
 ],
 "metadata": {
  "kernelspec": {
   "display_name": "Python 3",
   "language": "python",
   "name": "python3"
  },
  "language_info": {
   "codemirror_mode": {
    "name": "ipython",
    "version": 3
   },
   "file_extension": ".py",
   "mimetype": "text/x-python",
   "name": "python",
   "nbconvert_exporter": "python",
   "pygments_lexer": "ipython3",
   "version": "3.7.4"
  }
 },
 "nbformat": 4,
 "nbformat_minor": 4
}
